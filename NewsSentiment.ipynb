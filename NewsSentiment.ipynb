{
 "cells": [
  {
   "cell_type": "code",
   "execution_count": 1,
   "id": "873e9aa3",
   "metadata": {},
   "outputs": [],
   "source": [
    "import pandas as pd\n",
    "import requests\n",
    "from bs4 import BeautifulSoup\n",
    "from selenium import webdriver\n",
    "import matplotlib.pyplot as plt\n",
    "import seaborn as sns\n",
    "import urllib.request\n",
    "import cv2\n",
    "from PIL import Image\n",
    "import matplotlib.pyplot as plt\n",
    "from nepali_stemmer.stemmer import NepStemmer\n",
    "import numpy as np\n",
    "from sklearn.svm import SVC\n",
    "from sklearn.metrics import accuracy_score\n",
    "from nltk.corpus import stopwords\n",
    "from string import punctuation\n",
    "import pickle\n",
    "from sklearn.model_selection import train_test_split\n",
    "from sklearn.feature_extraction.text import TfidfVectorizer"
   ]
  },
  {
   "cell_type": "markdown",
   "id": "1495422f",
   "metadata": {},
   "source": [
    "## Web Screping News"
   ]
  },
  {
   "cell_type": "markdown",
   "id": "49588110",
   "metadata": {},
   "source": [
    "* In this project we will fetch news of 7 province. These record is stored and predicted sentiment."
   ]
  },
  {
   "cell_type": "code",
   "execution_count": 2,
   "id": "2af026fd",
   "metadata": {},
   "outputs": [],
   "source": [
    "Pradesh1='https://www.onlinekhabar.com/content/desh-samachar/pradesh1/page/'\n",
    "Pradesh2='https://www.onlinekhabar.com/content/desh-samachar/pradesh2/page/'\n",
    "Pradesh3='https://www.onlinekhabar.com/content/desh-samachar/pradesh3/page/'\n",
    "Pradesh4='https://www.onlinekhabar.com/content/desh-samachar/pradesh4/page/'\n",
    "Pradesh5='https://www.onlinekhabar.com/content/desh-samachar/pradesh5/page/'\n",
    "Pradesh6='https://www.onlinekhabar.com/content/desh-samachar/pradesh6/page/'\n",
    "Pradesh7='https://www.onlinekhabar.com/content/desh-samachar/pradesh7/page/'\n"
   ]
  },
  {
   "cell_type": "code",
   "execution_count": 3,
   "id": "aa5e7b72",
   "metadata": {},
   "outputs": [],
   "source": [
    "headers = {'User-Agent': 'Mozilla/5.0 (Windows NT 10.0; Win64; x64; rv:94.0) Gecko/20100101 Firefox/94.0',  'Accept-Language': 'en-US, en;q=0.5'}"
   ]
  },
  {
   "cell_type": "code",
   "execution_count": 4,
   "id": "6b2f5363",
   "metadata": {},
   "outputs": [],
   "source": [
    "webpage_content = requests.get(Pradesh1, headers=headers)\n",
    "webpage_content = BeautifulSoup(webpage_content.content, 'html.parser')"
   ]
  },
  {
   "cell_type": "markdown",
   "id": "835e8fee",
   "metadata": {},
   "source": [
    "#### Fetching Provience 1 headlines"
   ]
  },
  {
   "cell_type": "code",
   "execution_count": 5,
   "id": "48141048",
   "metadata": {},
   "outputs": [],
   "source": [
    "Province1=[]\n",
    "index=1\n",
    "for page in range(1,2):\n",
    "    try:\n",
    "        webpage_content = requests.get(Pradesh1+str(page), headers=headers)\n",
    "        webpage_content = BeautifulSoup(webpage_content.content, 'html.parser')\n",
    "        for headlines in webpage_content.find_all('div', class_='span-4'):\n",
    "            Province1.append([index, headlines.find('h2').text.strip()])\n",
    "    except:\n",
    "        continue"
   ]
  },
  {
   "cell_type": "markdown",
   "id": "017e4e37",
   "metadata": {},
   "source": [
    "#### Fetching Provience 2 headlines"
   ]
  },
  {
   "cell_type": "code",
   "execution_count": 6,
   "id": "f96aa13e",
   "metadata": {},
   "outputs": [],
   "source": [
    "Province2=[]\n",
    "index=2\n",
    "for page in range(1,2):\n",
    "    try:\n",
    "        webpage_content = requests.get(Pradesh2+str(page), headers=headers)\n",
    "        webpage_content = BeautifulSoup(webpage_content.content, 'html.parser')\n",
    "        for headlines in webpage_content.find_all('div', class_='span-4'):\n",
    "            Province2.append([index, headlines.find('h2').text.strip()])\n",
    "    except:\n",
    "        continue\n",
    "        "
   ]
  },
  {
   "cell_type": "markdown",
   "id": "9deeb18f",
   "metadata": {},
   "source": [
    "#### Fetching Province 3 headlines"
   ]
  },
  {
   "cell_type": "code",
   "execution_count": 7,
   "id": "9882252b",
   "metadata": {},
   "outputs": [],
   "source": [
    "Province3=[]\n",
    "index=3\n",
    "for page in range(1,2):\n",
    "    try:\n",
    "        webpage_content = requests.get(Pradesh3+str(page), headers=headers)\n",
    "        webpage_content = BeautifulSoup(webpage_content.content, 'html.parser')\n",
    "        for headlines in webpage_content.find_all('div', class_='span-4'):\n",
    "            Province3.append([index, headlines.find('h2').text.strip()])\n",
    "    except:\n",
    "        continue"
   ]
  },
  {
   "cell_type": "code",
   "execution_count": 8,
   "id": "3e2198f2",
   "metadata": {},
   "outputs": [],
   "source": [
    "Province4=[]\n",
    "index=4\n",
    "for page in range(1,2):\n",
    "    try:\n",
    "        webpage_content = requests.get(Pradesh4+str(page), headers=headers)\n",
    "        webpage_content = BeautifulSoup(webpage_content.content, 'html.parser')\n",
    "        for headlines in webpage_content.find_all('div', class_='span-4'):\n",
    "            Province4.append([index, headlines.find('h2').text.strip()])\n",
    "    except:\n",
    "        continue"
   ]
  },
  {
   "cell_type": "markdown",
   "id": "55f6ac78",
   "metadata": {},
   "source": [
    "#### Fetchine Provience 5 headlines"
   ]
  },
  {
   "cell_type": "code",
   "execution_count": 9,
   "id": "5fb77914",
   "metadata": {},
   "outputs": [],
   "source": [
    "Province5=[]\n",
    "index=5\n",
    "for page in range(1,2):\n",
    "    try:\n",
    "        webpage_content = requests.get(Pradesh5+str(page), headers=headers)\n",
    "        webpage_content = BeautifulSoup(webpage_content.content, 'html.parser')\n",
    "        for headlines in webpage_content.find_all('div', class_='span-4'):\n",
    "            Province5.append([index, headlines.find('h2').text.strip()])\n",
    "    except:\n",
    "        continue"
   ]
  },
  {
   "cell_type": "code",
   "execution_count": 10,
   "id": "b733188d",
   "metadata": {},
   "outputs": [],
   "source": [
    "Province6=[]\n",
    "index=6\n",
    "for page in range(1,2):\n",
    "    try:\n",
    "        webpage_content = requests.get(Pradesh6+str(page), headers=headers)\n",
    "        webpage_content = BeautifulSoup(webpage_content.content, 'html.parser')\n",
    "        for headlines in webpage_content.find_all('div', class_='span-4'):\n",
    "            Province6.append([index, headlines.find('h2').text.strip()])\n",
    "    except:\n",
    "        continue"
   ]
  },
  {
   "cell_type": "markdown",
   "id": "2c5fb11e",
   "metadata": {},
   "source": [
    "#### Fetchine Provience 7 headlines"
   ]
  },
  {
   "cell_type": "code",
   "execution_count": 11,
   "id": "8b839493",
   "metadata": {},
   "outputs": [],
   "source": [
    "Province7=[]\n",
    "for page in range(1,2):\n",
    "    index=7\n",
    "    try:\n",
    "        webpage_content = requests.get(Pradesh7+str(page), headers=headers)\n",
    "        webpage_content = BeautifulSoup(webpage_content.content, 'html.parser')\n",
    "        for headlines in webpage_content.find_all('div', class_='span-4'):\n",
    "            Province7.append([INDEX, headlines.find('h2').text.strip()])\n",
    "    except:\n",
    "        pass"
   ]
  },
  {
   "cell_type": "markdown",
   "id": "9b327bf0",
   "metadata": {},
   "source": [
    "#### Compile recode"
   ]
  },
  {
   "cell_type": "code",
   "execution_count": 12,
   "id": "fe41bf12",
   "metadata": {},
   "outputs": [],
   "source": [
    "compile = Province1+Province2+Province3+Province4+Province5+Province6+Province7"
   ]
  },
  {
   "cell_type": "markdown",
   "id": "2b4419e4",
   "metadata": {},
   "source": [
    "#### Convert recoder to dataframe"
   ]
  },
  {
   "cell_type": "code",
   "execution_count": 13,
   "id": "e43e5c18",
   "metadata": {},
   "outputs": [],
   "source": [
    "data_file = pd.DataFrame(compile,columns=['Province','Headlines'])\n"
   ]
  },
  {
   "cell_type": "code",
   "execution_count": 14,
   "id": "16335ac2",
   "metadata": {},
   "outputs": [
    {
     "data": {
      "image/png": "[encoded data removed]",
      "text/plain": [
       "<Figure size 1500x500 with 1 Axes>"
      ]
     },
     "metadata": {},
     "output_type": "display_data"
    }
   ],
   "source": [
    "plt.figure(figsize=(15,5))\n",
    "sns.set_style('dark')\n",
    "sns.countplot(x='Province', data= data_file)\n",
    "plt.title('Total news collection')\n",
    "plt.xlabel('Province')\n",
    "plt.ylabel('Total news')\n",
    "plt.show()"
   ]
  },
  {
   "cell_type": "code",
   "execution_count": 15,
   "id": "f96c0999",
   "metadata": {},
   "outputs": [],
   "source": [
    "data_file.to_excel('news.xlsx')"
   ]
  },
  {
   "cell_type": "markdown",
   "id": "0e7f60af",
   "metadata": {},
   "source": [
    "## Extract dataset for model"
   ]
  },
  {
   "cell_type": "markdown",
   "id": "6fbc7264",
   "metadata": {},
   "source": [
    "* To train the model dataset is downloaded from kaggle"
   ]
  },
  {
   "cell_type": "code",
   "execution_count": 16,
   "id": "3052a094",
   "metadata": {},
   "outputs": [],
   "source": [
    "df = pd.read_csv('/Users/IT Folders/Python/Deerwalk/Projects/News sentiment analysis/sentiment_analysis_nepali_final.csv')"
   ]
  },
  {
   "cell_type": "markdown",
   "id": "5d79df8d",
   "metadata": {},
   "source": [
    "###### About Dataset\n",
    "* Sentiments Label meaning:\n",
    "\n",
    "* -1: Negative Sentiment\n",
    "* 0: Neutral Sentiment\n",
    "* 1: Positive Sentiment"
   ]
  },
  {
   "cell_type": "code",
   "execution_count": 17,
   "id": "5e48b42d",
   "metadata": {},
   "outputs": [
    {
     "data": {
      "text/html": [
       "<div>\n",
       "<style scoped>\n",
       "    .dataframe tbody tr th:only-of-type {\n",
       "        vertical-align: middle;\n",
       "    }\n",
       "\n",
       "    .dataframe tbody tr th {\n",
       "        vertical-align: top;\n",
       "    }\n",
       "\n",
       "    .dataframe thead th {\n",
       "        text-align: right;\n",
       "    }\n",
       "</style>\n",
       "<table border=\"1\" class=\"dataframe\">\n",
       "  <thead>\n",
       "    <tr style=\"text-align: right;\">\n",
       "      <th></th>\n",
       "      <th>Unnamed: 0</th>\n",
       "      <th>Sentences</th>\n",
       "      <th>Sentiment</th>\n",
       "    </tr>\n",
       "  </thead>\n",
       "  <tbody>\n",
       "    <tr>\n",
       "      <th>1276</th>\n",
       "      <td>734</td>\n",
       "      <td>रखार तेसैले अब यो पानीपुरिको भाडो जस्ले उठायेक...</td>\n",
       "      <td>-1</td>\n",
       "    </tr>\n",
       "    <tr>\n",
       "      <th>19973</th>\n",
       "      <td>17650</td>\n",
       "      <td>सूचना आयोगले मृतक र कोभिड लागेका व्यक्तिको स्थ...</td>\n",
       "      <td>1</td>\n",
       "    </tr>\n",
       "    <tr>\n",
       "      <th>30446</th>\n",
       "      <td>28128</td>\n",
       "      <td>धनगढी उपमहानगर पालिकाका मेयर नृप वड आपतको यो स...</td>\n",
       "      <td>1</td>\n",
       "    </tr>\n",
       "    <tr>\n",
       "      <th>27666</th>\n",
       "      <td>25346</td>\n",
       "      <td>कोराना भाइरस कोभिड संक्रमणबाट लगभग नेपाल जोगिए...</td>\n",
       "      <td>1</td>\n",
       "    </tr>\n",
       "    <tr>\n",
       "      <th>950</th>\n",
       "      <td>397</td>\n",
       "      <td>नेपाललाई लिएर जज लाई गाली गर्नु मुर्खता हो</td>\n",
       "      <td>1</td>\n",
       "    </tr>\n",
       "  </tbody>\n",
       "</table>\n",
       "</div>"
      ],
      "text/plain": [
       "       Unnamed: 0                                          Sentences  \\\n",
       "1276          734  रखार तेसैले अब यो पानीपुरिको भाडो जस्ले उठायेक...   \n",
       "19973       17650  सूचना आयोगले मृतक र कोभिड लागेका व्यक्तिको स्थ...   \n",
       "30446       28128  धनगढी उपमहानगर पालिकाका मेयर नृप वड आपतको यो स...   \n",
       "27666       25346  कोराना भाइरस कोभिड संक्रमणबाट लगभग नेपाल जोगिए...   \n",
       "950           397         नेपाललाई लिएर जज लाई गाली गर्नु मुर्खता हो   \n",
       "\n",
       "       Sentiment  \n",
       "1276          -1  \n",
       "19973          1  \n",
       "30446          1  \n",
       "27666          1  \n",
       "950            1  "
      ]
     },
     "execution_count": 17,
     "metadata": {},
     "output_type": "execute_result"
    }
   ],
   "source": [
    "df.sample(5)\n"
   ]
  },
  {
   "cell_type": "code",
   "execution_count": 18,
   "id": "50777e20",
   "metadata": {},
   "outputs": [],
   "source": [
    "df=df.drop(columns=['Unnamed: 0'])"
   ]
  },
  {
   "cell_type": "code",
   "execution_count": 19,
   "id": "9e5042ec",
   "metadata": {},
   "outputs": [
    {
     "data": {
      "text/plain": [
       "(35789, 2)"
      ]
     },
     "execution_count": 19,
     "metadata": {},
     "output_type": "execute_result"
    }
   ],
   "source": [
    "df.shape"
   ]
  },
  {
   "cell_type": "code",
   "execution_count": 20,
   "id": "05dc8392",
   "metadata": {},
   "outputs": [
    {
     "data": {
      "text/plain": [
       "Sentences    0\n",
       "Sentiment    0\n",
       "dtype: int64"
      ]
     },
     "execution_count": 20,
     "metadata": {},
     "output_type": "execute_result"
    }
   ],
   "source": [
    "df.isnull().sum()"
   ]
  },
  {
   "cell_type": "code",
   "execution_count": 21,
   "id": "13d69fdc",
   "metadata": {},
   "outputs": [
    {
     "data": {
      "text/plain": [
       " 1    15880\n",
       "-1    14408\n",
       " 0     5501\n",
       "Name: Sentiment, dtype: int64"
      ]
     },
     "execution_count": 21,
     "metadata": {},
     "output_type": "execute_result"
    }
   ],
   "source": [
    "df['Sentiment'].value_counts()\n"
   ]
  },
  {
   "cell_type": "code",
   "execution_count": 22,
   "id": "fd36b0fd",
   "metadata": {},
   "outputs": [
    {
     "data": {
      "image/png": "[encoded data removed]",
      "text/plain": [
       "<Figure size 640x480 with 1 Axes>"
      ]
     },
     "metadata": {},
     "output_type": "display_data"
    }
   ],
   "source": [
    "sns.countplot(x=df['Sentiment'])\n",
    "plt.show()\n"
   ]
  },
  {
   "cell_type": "markdown",
   "id": "3f86f1e3",
   "metadata": {},
   "source": [
    "## Feature Engineering"
   ]
  },
  {
   "cell_type": "code",
   "execution_count": 23,
   "id": "0aa044de",
   "metadata": {},
   "outputs": [],
   "source": [
    "def preprocess(sentence):\n",
    "    \n",
    "    punctuations = '!\"#$%&\\'()*+,-./:;<=>?@[\\\\]^_`{|}~।/'\n",
    "    data1 =' '.join( [word for word in sentence.split() if word not in punctuations])\n",
    "    \n",
    "    data2 = ''.join((word for word in data1 if not word.isdigit()))\n",
    "    \n",
    "    data3 = NepStemmer().stem(data2)\n",
    "    \n",
    "    stopword = stopwords.words('nepali')\n",
    "    data4 = ' '.join([word for word in data3.split() if word not in stopword])\n",
    "    \n",
    "    return data4\n"
   ]
  },
  {
   "cell_type": "code",
   "execution_count": 24,
   "id": "ae1cdf6e",
   "metadata": {},
   "outputs": [],
   "source": [
    "df['final sentence'] = df['Sentences'].apply(preprocess)\n"
   ]
  },
  {
   "cell_type": "code",
   "execution_count": 25,
   "id": "675f8c31",
   "metadata": {},
   "outputs": [
    {
     "data": {
      "text/html": [
       "<div>\n",
       "<style scoped>\n",
       "    .dataframe tbody tr th:only-of-type {\n",
       "        vertical-align: middle;\n",
       "    }\n",
       "\n",
       "    .dataframe tbody tr th {\n",
       "        vertical-align: top;\n",
       "    }\n",
       "\n",
       "    .dataframe thead th {\n",
       "        text-align: right;\n",
       "    }\n",
       "</style>\n",
       "<table border=\"1\" class=\"dataframe\">\n",
       "  <thead>\n",
       "    <tr style=\"text-align: right;\">\n",
       "      <th></th>\n",
       "      <th>Sentences</th>\n",
       "      <th>Sentiment</th>\n",
       "      <th>final sentence</th>\n",
       "    </tr>\n",
       "  </thead>\n",
       "  <tbody>\n",
       "    <tr>\n",
       "      <th>0</th>\n",
       "      <td>म एक शिक्षक , शिक्षा क्षेत्रमा रमाएको मान्छे ।...</td>\n",
       "      <td>1</td>\n",
       "      <td>शिक्षक शिक्षा क्षेत्र रमाए मान्छे सामुदायिक वि...</td>\n",
       "    </tr>\n",
       "    <tr>\n",
       "      <th>1</th>\n",
       "      <td>म सरकारी स्कूल/कलेजमा पढेर करीब १२ बर्ष भन्दा ...</td>\n",
       "      <td>1</td>\n",
       "      <td>सरकारी स्कूल/कलेजमा पढेर करीब बर्ष बढी बिभिन्न...</td>\n",
       "    </tr>\n",
       "    <tr>\n",
       "      <th>2</th>\n",
       "      <td>कति राम्रो शिव मन्दिर देख्न पाइयो कुन ठाउको हो...</td>\n",
       "      <td>1</td>\n",
       "      <td>कति शिव मन्दिर देख्न पाइयो कुन ठाउ होला ?धन्यव...</td>\n",
       "    </tr>\n",
       "    <tr>\n",
       "      <th>3</th>\n",
       "      <td>मारुनी भन्ने वितिकै सामान्य नाचनीमा आधारित कथा...</td>\n",
       "      <td>1</td>\n",
       "      <td>मारुनी विति कै सामान्य नाचनी आधारित कथा होला ल...</td>\n",
       "    </tr>\n",
       "    <tr>\n",
       "      <th>4</th>\n",
       "      <td>यो फ्लिम हेरिसकेपछी थाहा भयो कि किन दर्सकहरुले...</td>\n",
       "      <td>1</td>\n",
       "      <td>फ्लिम हेरिसके पछी थाहा भयो दर्सक हरुले साम्राज...</td>\n",
       "    </tr>\n",
       "  </tbody>\n",
       "</table>\n",
       "</div>"
      ],
      "text/plain": [
       "                                           Sentences  Sentiment  \\\n",
       "0  म एक शिक्षक , शिक्षा क्षेत्रमा रमाएको मान्छे ।...          1   \n",
       "1  म सरकारी स्कूल/कलेजमा पढेर करीब १२ बर्ष भन्दा ...          1   \n",
       "2  कति राम्रो शिव मन्दिर देख्न पाइयो कुन ठाउको हो...          1   \n",
       "3  मारुनी भन्ने वितिकै सामान्य नाचनीमा आधारित कथा...          1   \n",
       "4  यो फ्लिम हेरिसकेपछी थाहा भयो कि किन दर्सकहरुले...          1   \n",
       "\n",
       "                                      final sentence  \n",
       "0  शिक्षक शिक्षा क्षेत्र रमाए मान्छे सामुदायिक वि...  \n",
       "1  सरकारी स्कूल/कलेजमा पढेर करीब बर्ष बढी बिभिन्न...  \n",
       "2  कति शिव मन्दिर देख्न पाइयो कुन ठाउ होला ?धन्यव...  \n",
       "3  मारुनी विति कै सामान्य नाचनी आधारित कथा होला ल...  \n",
       "4  फ्लिम हेरिसके पछी थाहा भयो दर्सक हरुले साम्राज...  "
      ]
     },
     "execution_count": 25,
     "metadata": {},
     "output_type": "execute_result"
    }
   ],
   "source": [
    "df.head()\n"
   ]
  },
  {
   "cell_type": "code",
   "execution_count": 26,
   "id": "6d1bad7a",
   "metadata": {},
   "outputs": [],
   "source": [
    "X = df['final sentence']\n",
    "Y = df['Sentiment']\n"
   ]
  },
  {
   "cell_type": "code",
   "execution_count": 27,
   "id": "81843020",
   "metadata": {},
   "outputs": [],
   "source": [
    "xtrain, xtest, ytrain, ytest = train_test_split(X,Y, test_size=0.2, random_state=True)\n"
   ]
  },
  {
   "cell_type": "code",
   "execution_count": 28,
   "id": "e0412468",
   "metadata": {},
   "outputs": [
    {
     "data": {
      "text/html": [
       "<style>#sk-container-id-1 {color: black;background-color: white;}#sk-container-id-1 pre{padding: 0;}#sk-container-id-1 div.sk-toggleable {background-color: white;}#sk-container-id-1 label.sk-toggleable__label {cursor: pointer;display: block;width: 100%;margin-bottom: 0;padding: 0.3em;box-sizing: border-box;text-align: center;}#sk-container-id-1 label.sk-toggleable__label-arrow:before {content: \"▸\";float: left;margin-right: 0.25em;color: #696969;}#sk-container-id-1 label.sk-toggleable__label-arrow:hover:before {color: black;}#sk-container-id-1 div.sk-estimator:hover label.sk-toggleable__label-arrow:before {color: black;}#sk-container-id-1 div.sk-toggleable__content {max-height: 0;max-width: 0;overflow: hidden;text-align: left;background-color: #f0f8ff;}#sk-container-id-1 div.sk-toggleable__content pre {margin: 0.2em;color: black;border-radius: 0.25em;background-color: #f0f8ff;}#sk-container-id-1 input.sk-toggleable__control:checked~div.sk-toggleable__content {max-height: 200px;max-width: 100%;overflow: auto;}#sk-container-id-1 input.sk-toggleable__control:checked~label.sk-toggleable__label-arrow:before {content: \"▾\";}#sk-container-id-1 div.sk-estimator input.sk-toggleable__control:checked~label.sk-toggleable__label {background-color: #d4ebff;}#sk-container-id-1 div.sk-label input.sk-toggleable__control:checked~label.sk-toggleable__label {background-color: #d4ebff;}#sk-container-id-1 input.sk-hidden--visually {border: 0;clip: rect(1px 1px 1px 1px);clip: rect(1px, 1px, 1px, 1px);height: 1px;margin: -1px;overflow: hidden;padding: 0;position: absolute;width: 1px;}#sk-container-id-1 div.sk-estimator {font-family: monospace;background-color: #f0f8ff;border: 1px dotted black;border-radius: 0.25em;box-sizing: border-box;margin-bottom: 0.5em;}#sk-container-id-1 div.sk-estimator:hover {background-color: #d4ebff;}#sk-container-id-1 div.sk-parallel-item::after {content: \"\";width: 100%;border-bottom: 1px solid gray;flex-grow: 1;}#sk-container-id-1 div.sk-label:hover label.sk-toggleable__label {background-color: #d4ebff;}#sk-container-id-1 div.sk-serial::before {content: \"\";position: absolute;border-left: 1px solid gray;box-sizing: border-box;top: 0;bottom: 0;left: 50%;z-index: 0;}#sk-container-id-1 div.sk-serial {display: flex;flex-direction: column;align-items: center;background-color: white;padding-right: 0.2em;padding-left: 0.2em;position: relative;}#sk-container-id-1 div.sk-item {position: relative;z-index: 1;}#sk-container-id-1 div.sk-parallel {display: flex;align-items: stretch;justify-content: center;background-color: white;position: relative;}#sk-container-id-1 div.sk-item::before, #sk-container-id-1 div.sk-parallel-item::before {content: \"\";position: absolute;border-left: 1px solid gray;box-sizing: border-box;top: 0;bottom: 0;left: 50%;z-index: -1;}#sk-container-id-1 div.sk-parallel-item {display: flex;flex-direction: column;z-index: 1;position: relative;background-color: white;}#sk-container-id-1 div.sk-parallel-item:first-child::after {align-self: flex-end;width: 50%;}#sk-container-id-1 div.sk-parallel-item:last-child::after {align-self: flex-start;width: 50%;}#sk-container-id-1 div.sk-parallel-item:only-child::after {width: 0;}#sk-container-id-1 div.sk-dashed-wrapped {border: 1px dashed gray;margin: 0 0.4em 0.5em 0.4em;box-sizing: border-box;padding-bottom: 0.4em;background-color: white;}#sk-container-id-1 div.sk-label label {font-family: monospace;font-weight: bold;display: inline-block;line-height: 1.2em;}#sk-container-id-1 div.sk-label-container {text-align: center;}#sk-container-id-1 div.sk-container {/* jupyter's `normalize.less` sets `[hidden] { display: none; }` but bootstrap.min.css set `[hidden] { display: none !important; }` so we also need the `!important` here to be able to override the default hidden behavior on the sphinx rendered scikit-learn.org. See: https://github.com/scikit-learn/scikit-learn/issues/21755 */display: inline-block !important;position: relative;}#sk-container-id-1 div.sk-text-repr-fallback {display: none;}</style><div id=\"sk-container-id-1\" class=\"sk-top-container\"><div class=\"sk-text-repr-fallback\"><pre>TfidfVectorizer(max_features=3000)</pre><b>In a Jupyter environment, please rerun this cell to show the HTML representation or trust the notebook. <br />On GitHub, the HTML representation is unable to render, please try loading this page with nbviewer.org.</b></div><div class=\"sk-container\" hidden><div class=\"sk-item\"><div class=\"sk-estimator sk-toggleable\"><input class=\"sk-toggleable__control sk-hidden--visually\" id=\"sk-estimator-id-1\" type=\"checkbox\" checked><label for=\"sk-estimator-id-1\" class=\"sk-toggleable__label sk-toggleable__label-arrow\">TfidfVectorizer</label><div class=\"sk-toggleable__content\"><pre>TfidfVectorizer(max_features=3000)</pre></div></div></div></div></div>"
      ],
      "text/plain": [
       "TfidfVectorizer(max_features=3000)"
      ]
     },
     "execution_count": 28,
     "metadata": {},
     "output_type": "execute_result"
    }
   ],
   "source": [
    "tfidf = TfidfVectorizer(max_features=3000)\n",
    "tfidf.fit(xtrain)\n"
   ]
  },
  {
   "cell_type": "code",
   "execution_count": 29,
   "id": "29c7aa87",
   "metadata": {},
   "outputs": [],
   "source": [
    "tfidf_xtrain = tfidf.transform(xtrain)\n",
    "tfidf_xtest = tfidf.transform(xtest)\n"
   ]
  },
  {
   "cell_type": "markdown",
   "id": "174fe7d5",
   "metadata": {},
   "source": [
    "## Build a model"
   ]
  },
  {
   "cell_type": "code",
   "execution_count": 32,
   "id": "5b196d4c",
   "metadata": {},
   "outputs": [
    {
     "name": "stdout",
     "output_type": "stream",
     "text": [
      "At regularization = 1 accuracy is 0.6743503772003353\n"
     ]
    }
   ],
   "source": [
    "svc = SVC(C=1, kernel='rbf',gamma=1)\n",
    "svc.fit(tfidf_xtrain,ytrain)\n",
    "y_pred = svc.predict(tfidf_xtest)\n",
    "print(f'At regularization = 1 accuracy is {accuracy_score(ytest, y_pred)}')\n",
    "    "
   ]
  },
  {
   "cell_type": "code",
   "execution_count": 33,
   "id": "d81c1d81",
   "metadata": {},
   "outputs": [
    {
     "data": {
      "text/html": [
       "<div>\n",
       "<style scoped>\n",
       "    .dataframe tbody tr th:only-of-type {\n",
       "        vertical-align: middle;\n",
       "    }\n",
       "\n",
       "    .dataframe tbody tr th {\n",
       "        vertical-align: top;\n",
       "    }\n",
       "\n",
       "    .dataframe thead th {\n",
       "        text-align: right;\n",
       "    }\n",
       "</style>\n",
       "<table border=\"1\" class=\"dataframe\">\n",
       "  <thead>\n",
       "    <tr style=\"text-align: right;\">\n",
       "      <th></th>\n",
       "      <th>Province</th>\n",
       "      <th>Headlines</th>\n",
       "    </tr>\n",
       "  </thead>\n",
       "  <tbody>\n",
       "    <tr>\n",
       "      <th>0</th>\n",
       "      <td>1</td>\n",
       "      <td>सुनसरी र मोरङमा अति भारी वर्षा, ११ बजेसम्म उच्...</td>\n",
       "    </tr>\n",
       "    <tr>\n",
       "      <th>1</th>\n",
       "      <td>1</td>\n",
       "      <td>कोशी सरकारलाई अदालतको त्रास र राप्रपाको आश</td>\n",
       "    </tr>\n",
       "    <tr>\n",
       "      <th>2</th>\n",
       "      <td>1</td>\n",
       "      <td>मोरङ कारागारमा कैदीबन्दीको मृत्यु</td>\n",
       "    </tr>\n",
       "    <tr>\n",
       "      <th>3</th>\n",
       "      <td>1</td>\n",
       "      <td>झापा गाउँपालिकाका अध्‍यक्षसहित ११ जनाविरुद्ध भ...</td>\n",
       "    </tr>\n",
       "    <tr>\n",
       "      <th>4</th>\n",
       "      <td>1</td>\n",
       "      <td>इटहरीका होस्टलमा उपमहानगरको अनुगमन, एउटामा ताला</td>\n",
       "    </tr>\n",
       "  </tbody>\n",
       "</table>\n",
       "</div>"
      ],
      "text/plain": [
       "   Province                                          Headlines\n",
       "0         1  सुनसरी र मोरङमा अति भारी वर्षा, ११ बजेसम्म उच्...\n",
       "1         1         कोशी सरकारलाई अदालतको त्रास र राप्रपाको आश\n",
       "2         1                  मोरङ कारागारमा कैदीबन्दीको मृत्यु\n",
       "3         1  झापा गाउँपालिकाका अध्‍यक्षसहित ११ जनाविरुद्ध भ...\n",
       "4         1    इटहरीका होस्टलमा उपमहानगरको अनुगमन, एउटामा ताला"
      ]
     },
     "execution_count": 33,
     "metadata": {},
     "output_type": "execute_result"
    }
   ],
   "source": [
    "data_file.head()\n"
   ]
  },
  {
   "cell_type": "code",
   "execution_count": 34,
   "id": "8af62f6d",
   "metadata": {},
   "outputs": [],
   "source": [
    "data_file['final Headlines'] = data_file['Headlines'].apply(preprocess)\n"
   ]
  },
  {
   "cell_type": "code",
   "execution_count": 35,
   "id": "891fd076",
   "metadata": {},
   "outputs": [],
   "source": [
    "data_file.to_excel('news.xlsx')\n"
   ]
  },
  {
   "cell_type": "code",
   "execution_count": 36,
   "id": "605b1f8e",
   "metadata": {},
   "outputs": [
    {
     "data": {
      "text/plain": [
       "'फिर्केखोला मापदण्ड मिटर बजेट आकार घट्यो'"
      ]
     },
     "execution_count": 36,
     "metadata": {},
     "output_type": "execute_result"
    }
   ],
   "source": [
    "data_file['final Headlines'][100]\n"
   ]
  },
  {
   "cell_type": "code",
   "execution_count": 37,
   "id": "fd89eeee",
   "metadata": {},
   "outputs": [],
   "source": [
    "x=tfidf.transform([data_file['final Headlines'][100]])\n"
   ]
  },
  {
   "cell_type": "code",
   "execution_count": 38,
   "id": "581593a4",
   "metadata": {},
   "outputs": [
    {
     "data": {
      "text/plain": [
       "(1, 3000)"
      ]
     },
     "execution_count": 38,
     "metadata": {},
     "output_type": "execute_result"
    }
   ],
   "source": [
    "x.shape"
   ]
  },
  {
   "cell_type": "code",
   "execution_count": 39,
   "id": "4cf7399c",
   "metadata": {},
   "outputs": [
    {
     "name": "stdout",
     "output_type": "stream",
     "text": [
      "Positive\n"
     ]
    }
   ],
   "source": [
    "if np.squeeze( svc.predict(x))==1:\n",
    "    print('Positive')\n",
    "if np.squeeze( svc.predict(x))==-1:\n",
    "    print('Negative')\n",
    "if np.squeeze( svc.predict(x))==0:\n",
    "    print('Neutral')\n",
    "    "
   ]
  },
  {
   "cell_type": "markdown",
   "id": "9c79a5f4",
   "metadata": {},
   "source": [
    "## Save Model"
   ]
  },
  {
   "cell_type": "code",
   "execution_count": 40,
   "id": "bd7039c7",
   "metadata": {},
   "outputs": [],
   "source": [
    "pickle.dump(tfidf,open('Vectorizer.pkl','wb'))\n",
    "pickle.dump(svc, open('Model.pkl','wb'))"
   ]
  },
  {
   "cell_type": "code",
   "execution_count": null,
   "id": "ac5f3260",
   "metadata": {},
   "outputs": [],
   "source": []
  }
 ],
 "metadata": {
  "kernelspec": {
   "display_name": "Python 3 (ipykernel)",
   "language": "python",
   "name": "python3"
  },
  "language_info": {
   "codemirror_mode": {
    "name": "ipython",
    "version": 3
   },
   "file_extension": ".py",
   "mimetype": "text/x-python",
   "name": "python",
   "nbconvert_exporter": "python",
   "pygments_lexer": "ipython3",
   "version": "3.10.10"
  }
 },
 "nbformat": 4,
 "nbformat_minor": 5
}
